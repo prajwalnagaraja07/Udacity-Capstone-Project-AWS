{
 "cells": [
  {
   "cell_type": "markdown",
   "id": "49759840-222e-4942-bdc8-783c394661ab",
   "metadata": {},
   "source": [
    "# Model training\n",
    "This notebook contains the model training and hyperparameter tuning of the LightGBM model using Sagemaker"
   ]
  },
  {
   "cell_type": "code",
   "execution_count": 6,
   "id": "1ceca896-3355-40e5-9dbd-eb3681a4a5e1",
   "metadata": {
    "tags": []
   },
   "outputs": [],
   "source": [
    "import sagemaker\n",
    "from sagemaker.estimator import Estimator\n",
    "from sagemaker.parameter import ContinuousParameter, CategoricalParameter, IntegerParameter\n",
    "from sagemaker.tuner import HyperparameterTuner\n",
    "from sagemaker import image_uris, model_uris, script_uris\n",
    "import time\n",
    "import boto3\n"
   ]
  },
  {
   "cell_type": "code",
   "execution_count": 21,
   "id": "dce8ff05-2ddc-4e7f-bb94-9c30c9c2d23d",
   "metadata": {},
   "outputs": [],
   "source": [
    "role = sagemaker.get_execution_role() \n",
    "session = sagemaker.Session() \n",
    "region = session.boto_region_name\n",
    "bucket = session.default_bucket()\n",
    "\n",
    "column_names = ['offer_completed_after_view', 'age', 'income', 'membership_days', 'gender_F', 'gender_M', 'gender_O', 'reward', 'difficulty', 'duration', 'email', 'mobile', 'social', 'web', 'offer_bogo', 'offer_discount', 'offer_informational']\n",
    "train_location, val_location, test_location = ('s3://sagemaker-us-east-1-361673968127/data/train.csv', 's3://sagemaker-us-east-1-361673968127/data/validation.csv', 's3://ssagemaker-us-east-1-361673968127/data/test.csv')\n",
    "train_model_id, train_model_version, train_scope = \"lightgbm-classification-model\", \"*\", \"training\"\n",
    "training_instance_type = \"ml.m5.xlarge\"\n",
    "\n",
    "prefix = 'sagemaker-project'\n",
    "s3_output_location = f's3://{bucket}/{prefix}/output'"
   ]
  },
  {
   "cell_type": "code",
   "execution_count": 14,
   "id": "31ac3569-88f1-4c3b-a0b5-f0797306de56",
   "metadata": {},
   "outputs": [
    {
     "name": "stdout",
     "output_type": "stream",
     "text": [
      "Collecting sagemaker==2.189.0\n",
      "  Downloading sagemaker-2.189.0.tar.gz (893 kB)\n",
      "\u001b[2K     \u001b[90m━━━━━━━━━━━━━━━━━━━━━━━━━━━━━━━━━━━━━━\u001b[0m \u001b[32m893.3/893.3 kB\u001b[0m \u001b[31m44.6 MB/s\u001b[0m eta \u001b[36m0:00:00\u001b[0m\n",
      "  Preparing metadata (setup.py) ... \u001b[?2done\n",
      "\u001b[?25hRequirement already satisfied: attrs<24,>=23.1.0 in /opt/conda/lib/python3.11/site-packages (from sagemaker==2.189.0) (23.2.0)\n",
      "Requirement already satisfied: boto3<2.0,>=1.26.131 in /opt/conda/lib/python3.11/site-packages (from sagemaker==2.189.0) (1.36.23)\n",
      "Collecting cloudpickle==2.2.1 (from sagemaker==2.189.0)\n",
      "  Downloading cloudpickle-2.2.1-py3-none-any.whl.metadata (6.9 kB)\n",
      "Requirement already satisfied: google-pasta in /opt/conda/lib/python3.11/site-packages (from sagemaker==2.189.0) (0.2.0)\n",
      "Requirement already satisfied: numpy<2.0,>=1.9.0 in /opt/conda/lib/python3.11/site-packages (from sagemaker==2.189.0) (1.26.4)\n",
      "Requirement already satisfied: protobuf<5.0,>=3.12 in /opt/conda/lib/python3.11/site-packages (from sagemaker==2.189.0) (4.25.3)\n",
      "Requirement already satisfied: smdebug_rulesconfig==1.0.1 in /opt/conda/lib/python3.11/site-packages (from sagemaker==2.189.0) (1.0.1)\n",
      "Requirement already satisfied: importlib-metadata<7.0,>=1.4.0 in /opt/conda/lib/python3.11/site-packages (from sagemaker==2.189.0) (6.10.0)\n",
      "Requirement already satisfied: packaging>=20.0 in /opt/conda/lib/python3.11/site-packages (from sagemaker==2.189.0) (24.2)\n",
      "Requirement already satisfied: pandas in /opt/conda/lib/python3.11/site-packages (from sagemaker==2.189.0) (2.2.3)\n",
      "Requirement already satisfied: pathos in /opt/conda/lib/python3.11/site-packages (from sagemaker==2.189.0) (0.3.3)\n",
      "Requirement already satisfied: schema in /opt/conda/lib/python3.11/site-packages (from sagemaker==2.189.0) (0.7.7)\n",
      "Requirement already satisfied: PyYAML~=6.0 in /opt/conda/lib/python3.11/site-packages (from sagemaker==2.189.0) (6.0.2)\n",
      "Requirement already satisfied: jsonschema in /opt/conda/lib/python3.11/site-packages (from sagemaker==2.189.0) (4.21.1)\n",
      "Requirement already satisfied: platformdirs in /opt/conda/lib/python3.11/site-packages (from sagemaker==2.189.0) (4.3.6)\n",
      "Collecting tblib==1.7.0 (from sagemaker==2.189.0)\n",
      "  Downloading tblib-1.7.0-py2.py3-none-any.whl.metadata (24 kB)\n",
      "Requirement already satisfied: botocore<1.37.0,>=1.36.23 in /opt/conda/lib/python3.11/site-packages (from boto3<2.0,>=1.26.131->sagemaker==2.189.0) (1.36.23)\n",
      "Requirement already satisfied: jmespath<2.0.0,>=0.7.1 in /opt/conda/lib/python3.11/site-packages (from boto3<2.0,>=1.26.131->sagemaker==2.189.0) (1.0.1)\n",
      "Requirement already satisfied: s3transfer<0.12.0,>=0.11.0 in /opt/conda/lib/python3.11/site-packages (from boto3<2.0,>=1.26.131->sagemaker==2.189.0) (0.11.3)\n",
      "Requirement already satisfied: zipp>=0.5 in /opt/conda/lib/python3.11/site-packages (from importlib-metadata<7.0,>=1.4.0->sagemaker==2.189.0) (3.21.0)\n",
      "Requirement already satisfied: six in /opt/conda/lib/python3.11/site-packages (from google-pasta->sagemaker==2.189.0) (1.17.0)\n",
      "Requirement already satisfied: jsonschema-specifications>=2023.03.6 in /opt/conda/lib/python3.11/site-packages (from jsonschema->sagemaker==2.189.0) (2024.10.1)\n",
      "Requirement already satisfied: referencing>=0.28.4 in /opt/conda/lib/python3.11/site-packages (from jsonschema->sagemaker==2.189.0) (0.36.2)\n",
      "Requirement already satisfied: rpds-py>=0.7.1 in /opt/conda/lib/python3.11/site-packages (from jsonschema->sagemaker==2.189.0) (0.23.1)\n",
      "Requirement already satisfied: python-dateutil>=2.8.2 in /opt/conda/lib/python3.11/site-packages (from pandas->sagemaker==2.189.0) (2.9.0.post0)\n",
      "Requirement already satisfied: pytz>=2020.1 in /opt/conda/lib/python3.11/site-packages (from pandas->sagemaker==2.189.0) (2024.1)\n",
      "Requirement already satisfied: tzdata>=2022.7 in /opt/conda/lib/python3.11/site-packages (from pandas->sagemaker==2.189.0) (2025.1)\n",
      "Requirement already satisfied: ppft>=1.7.6.9 in /opt/conda/lib/python3.11/site-packages (from pathos->sagemaker==2.189.0) (1.7.6.9)\n",
      "Requirement already satisfied: dill>=0.3.9 in /opt/conda/lib/python3.11/site-packages (from pathos->sagemaker==2.189.0) (0.3.9)\n",
      "Requirement already satisfied: pox>=0.3.5 in /opt/conda/lib/python3.11/site-packages (from pathos->sagemaker==2.189.0) (0.3.5)\n",
      "Requirement already satisfied: multiprocess>=0.70.17 in /opt/conda/lib/python3.11/site-packages (from pathos->sagemaker==2.189.0) (0.70.17)\n",
      "Requirement already satisfied: urllib3!=2.2.0,<3,>=1.25.4 in /opt/conda/lib/python3.11/site-packages (from botocore<1.37.0,>=1.36.23->boto3<2.0,>=1.26.131->sagemaker==2.189.0) (2.3.0)\n",
      "Requirement already satisfied: typing-extensions>=4.4.0 in /opt/conda/lib/python3.11/site-packages (from referencing>=0.28.4->jsonschema->sagemaker==2.189.0) (4.12.2)\n",
      "Downloading cloudpickle-2.2.1-py3-none-any.whl (25 kB)\n",
      "Downloading tblib-1.7.0-py2.py3-none-any.whl (12 kB)\n",
      "Building wheels for collected packages: sagemaker\n",
      "  Building wheel for sagemaker (setup.py) done\n",
      "\u001b[?25h  Created wheel for sagemaker: filename=sagemaker-2.189.0-py2.py3-none-any.whl size=1194972 sha256=737f49e08a3aad8b799a57b624096245f779089af7b457d8e8cfd68ebd681d5c\n",
      "  Stored in directory: /home/sagemaker-user/.cache/pip/wheels/30/da/20/b1178bdf271b957c3ce2d833a12271282e9571aaa26e817162\n",
      "Successfully built sagemaker\n",
      "Installing collected packages: tblib, cloudpickle, sagemaker\n",
      "  Attempting uninstall: tblib\n",
      "    Found existing installation: tblib 3.0.0\n",
      "    Uninstalling tblib-3.0.0:\n",
      "      Successfully uninstalled tblib-3.0.0\n",
      "  Attempting uninstall: cloudpickle\n",
      "    Found existing installation: cloudpickle 3.1.1\n",
      "    Uninstalling cloudpickle-3.1.1:\n",
      "      Successfully uninstalled cloudpickle-3.1.1\n",
      "  Attempting uninstall: sagemaker\n",
      "    Found existing installation: sagemaker 2.243.0\n",
      "    Uninstalling sagemaker-2.243.0:\n",
      "      Successfully uninstalled sagemaker-2.243.0\n",
      "\u001b[31mERROR: pip's dependency resolver does not currently take into account all the packages that are installed. This behaviour is the source of the following dependency conflicts.\n",
      "jupyter-ai 2.29.1 requires faiss-cpu!=1.8.0.post0,<2.0.0,>=1.8.0, which is not installed.\n",
      "dask 2025.2.0 requires cloudpickle>=3.0.0, but you have cloudpickle 2.2.1 which is incompatible.\n",
      "distributed 2025.2.0 requires cloudpickle>=3.0.0, but you have cloudpickle 2.2.1 which is incompatible.\u001b[0m\u001b[31m\n",
      "\u001b[0mSuccessfully installed cloudpickle-2.2.1 sagemaker-2.189.0 tblib-1.7.0\n",
      "Note: you may need to restart the kernel to use updated packages.\n"
     ]
    }
   ],
   "source": [
    "pip install \"sagemaker==2.189.0\""
   ]
  },
  {
   "cell_type": "code",
   "execution_count": 22,
   "id": "5e42c916-255c-4a6f-9df1-0fd5e06cdcd7",
   "metadata": {
    "tags": []
   },
   "outputs": [],
   "source": [
    "# Retrieve the docker image\n",
    "train_image_uri = image_uris.retrieve(\n",
    "    region=None,\n",
    "    framework=None,\n",
    "    model_id=train_model_id,\n",
    "    model_version=train_model_version,\n",
    "    image_scope=train_scope,\n",
    "    instance_type=training_instance_type,\n",
    ")\n",
    "# Retrieve the training script\n",
    "train_source_uri = script_uris.retrieve(\n",
    "    model_id=train_model_id, model_version=train_model_version, script_scope=train_scope\n",
    ")\n",
    "# Retrieve the pre-trained model tarball to further fine-tune\n",
    "train_model_uri = model_uris.retrieve(\n",
    "    model_id=train_model_id, model_version=train_model_version, model_scope=train_scope\n",
    ")"
   ]
  },
  {
   "cell_type": "code",
   "execution_count": 23,
   "id": "b32d7b1b-b10b-4ec0-a21d-a7e5e8f6b204",
   "metadata": {
    "tags": []
   },
   "outputs": [
    {
     "data": {
      "text/plain": [
       "{'num_boost_round': '5000',\n",
       " 'early_stopping_rounds': '30',\n",
       " 'metric': 'average_precision',\n",
       " 'learning_rate': '0.009',\n",
       " 'num_leaves': '67',\n",
       " 'feature_fraction': '0.74',\n",
       " 'bagging_fraction': '0.53',\n",
       " 'bagging_freq': '5',\n",
       " 'max_depth': '11',\n",
       " 'min_data_in_leaf': '26',\n",
       " 'max_delta_step': '0.0',\n",
       " 'lambda_l1': '0.0',\n",
       " 'lambda_l2': '0.0',\n",
       " 'boosting': 'gbdt',\n",
       " 'min_gain_to_split': '0.0',\n",
       " 'scale_pos_weight': '1.0',\n",
       " 'tree_learner': 'serial',\n",
       " 'feature_fraction_bynode': '1.0',\n",
       " 'is_unbalance': 'False',\n",
       " 'max_bin': '255',\n",
       " 'num_threads': '0',\n",
       " 'verbosity': '1',\n",
       " 'use_dask': 'False'}"
      ]
     },
     "execution_count": 23,
     "metadata": {},
     "output_type": "execute_result"
    }
   ],
   "source": [
    "# Retrieve the default hyper-parameters for fine-tuning the model\n",
    "hyperparameters = sagemaker.hyperparameters.retrieve_default(\n",
    "    model_id=train_model_id, model_version=train_model_version\n",
    ")\n",
    "hyperparameters[\"metric\"] = \"average_precision\"\n",
    "hyperparameters"
   ]
  },
  {
   "cell_type": "code",
   "execution_count": 24,
   "id": "bffe25b4-001a-4bb5-b095-3e16680e8489",
   "metadata": {},
   "outputs": [],
   "source": [
    "hyperparameter_ranges_lgb = {\n",
    "    'learning_rate': ContinuousParameter(0.01, 0.2), # Learning rate (Step size shrinkage for updates)\n",
    "    \"num_leaves\": IntegerParameter(2, 50), # Maximum number of leaves in a tree\n",
    "    'feature_fraction': ContinuousParameter(0.5, 1), # Fraction of features used (column sample by tree)\n",
    "    'bagging_fraction': ContinuousParameter(0.5, 1), # Fraction of data used for bagging (subsample)\n",
    "    \"bagging_freq\": IntegerParameter(1, 10),\n",
    "    \"max_depth\": IntegerParameter(1, 10), # Maximum tree depth, -1 for no constraints\n",
    "    \"min_data_in_leaf\": IntegerParameter(1, 30), # Minimum number of data points in a leaf\n",
    "    'extra_trees': CategoricalParameter([True, False]) # If True when evaluating node splits LightGBM will check only one randomly-chosen threshold for each feature\n",
    "}"
   ]
  },
  {
   "cell_type": "code",
   "execution_count": 25,
   "id": "0a2bef10-d9ee-4e4a-8c31-d6b58285e4da",
   "metadata": {
    "tags": []
   },
   "outputs": [],
   "source": [
    "# Create SageMaker Estimator instance\n",
    "tabular_estimator = Estimator(\n",
    "    role=role,\n",
    "    image_uri=train_image_uri,\n",
    "    source_dir=train_source_uri,\n",
    "    model_uri=train_model_uri,\n",
    "    entry_point=\"transfer_learning.py\", # Default one available in image uri\n",
    "    instance_count=1,\n",
    "    volume_size=30,\n",
    "    instance_type=training_instance_type,\n",
    "    max_run=360000,\n",
    "    hyperparameters=hyperparameters,\n",
    "    output_path=s3_output_location,\n",
    ")"
   ]
  },
  {
   "cell_type": "code",
   "execution_count": 19,
   "id": "fc4e9709-1dec-42bf-89c1-425ce844c58f",
   "metadata": {},
   "outputs": [
    {
     "name": "stdout",
     "output_type": "stream",
     "text": [
      "\n",
      "An error occurred (AccessDenied) when calling the AttachRolePolicy operation: User: arn:aws:sts::361673968127:assumed-role/AmazonSageMaker-ExecutionRole-20250329T195861/SageMaker is not authorized to perform: iam:AttachRolePolicy on resource: role AmazonSageMaker-ExecutionRole-20250329T195861 because no identity-based policy allows the iam:AttachRolePolicy action\n"
     ]
    }
   ],
   "source": [
    "!aws iam attach-role-policy --role-name AmazonSageMaker-ExecutionRole-20250329T195861 --policy-arn arn:aws:iam::aws:policy/AmazonS3FullAccess\n"
   ]
  },
  {
   "cell_type": "code",
   "execution_count": 26,
   "id": "9b644233-3f5c-4f80-8e6f-2958686b2c08",
   "metadata": {
    "tags": []
   },
   "outputs": [
    {
     "data": {
      "text/html": [
       "<pre style=\"white-space:pre;overflow-x:auto;line-height:normal;font-family:Menlo,'DejaVu Sans Mono',consolas,'Courier New',monospace\"><span style=\"color: #7fbfbf; text-decoration-color: #7fbfbf\">[03/29/25 22:23:52] </span><span style=\"color: #d7af00; text-decoration-color: #d7af00; font-weight: bold\">WARNING </span> No finished training job found associated with this estimator.       <a href=\"file:///opt/conda/lib/python3.11/site-packages/sagemaker/estimator.py\" target=\"_blank\"><span style=\"color: #7f7f7f; text-decoration-color: #7f7f7f\">estimator.py</span></a><span style=\"color: #7f7f7f; text-decoration-color: #7f7f7f\">:</span><a href=\"file:///opt/conda/lib/python3.11/site-packages/sagemaker/estimator.py#1914\" target=\"_blank\"><span style=\"color: #7f7f7f; text-decoration-color: #7f7f7f\">1914</span></a>\n",
       "<span style=\"color: #7fbfbf; text-decoration-color: #7fbfbf\">                    </span>         Please make sure this estimator is only used for building workflow   <span style=\"color: #7f7f7f; text-decoration-color: #7f7f7f\">                 </span>\n",
       "<span style=\"color: #7fbfbf; text-decoration-color: #7fbfbf\">                    </span>         config                                                               <span style=\"color: #7f7f7f; text-decoration-color: #7f7f7f\">                 </span>\n",
       "</pre>\n"
      ],
      "text/plain": [
       "\u001b[2;36m[03/29/25 22:23:52]\u001b[0m\u001b[2;36m \u001b[0m\u001b[1;38;2;215;175;0mWARNING \u001b[0m No finished training job found associated with this estimator.       \u001b]8;id=761794;file:///opt/conda/lib/python3.11/site-packages/sagemaker/estimator.py\u001b\\\u001b[2mestimator.py\u001b[0m\u001b]8;;\u001b\\\u001b[2m:\u001b[0m\u001b]8;id=985017;file:///opt/conda/lib/python3.11/site-packages/sagemaker/estimator.py#1914\u001b\\\u001b[2m1914\u001b[0m\u001b]8;;\u001b\\\n",
       "\u001b[2;36m                    \u001b[0m         Please make sure this estimator is only used for building workflow   \u001b[2m                 \u001b[0m\n",
       "\u001b[2;36m                    \u001b[0m         config                                                               \u001b[2m                 \u001b[0m\n"
      ]
     },
     "metadata": {},
     "output_type": "display_data"
    },
    {
     "data": {
      "text/html": [
       "<pre style=\"white-space:pre;overflow-x:auto;line-height:normal;font-family:Menlo,'DejaVu Sans Mono',consolas,'Courier New',monospace\"><span style=\"color: #7fbfbf; text-decoration-color: #7fbfbf\">                    </span><span style=\"color: #0069ff; text-decoration-color: #0069ff; font-weight: bold\">INFO    </span> Creating hyperparameter tuning job with name:                          <a href=\"file:///opt/conda/lib/python3.11/site-packages/sagemaker/session.py\" target=\"_blank\"><span style=\"color: #7f7f7f; text-decoration-color: #7f7f7f\">session.py</span></a><span style=\"color: #7f7f7f; text-decoration-color: #7f7f7f\">:</span><a href=\"file:///opt/conda/lib/python3.11/site-packages/sagemaker/session.py#3383\" target=\"_blank\"><span style=\"color: #7f7f7f; text-decoration-color: #7f7f7f\">3383</span></a>\n",
       "<span style=\"color: #7fbfbf; text-decoration-color: #7fbfbf\">                    </span>         sagemaker-project1743287032                                            <span style=\"color: #7f7f7f; text-decoration-color: #7f7f7f\">               </span>\n",
       "</pre>\n"
      ],
      "text/plain": [
       "\u001b[2;36m                   \u001b[0m\u001b[2;36m \u001b[0m\u001b[1;38;2;0;105;255mINFO    \u001b[0m Creating hyperparameter tuning job with name:                          \u001b]8;id=360610;file:///opt/conda/lib/python3.11/site-packages/sagemaker/session.py\u001b\\\u001b[2msession.py\u001b[0m\u001b]8;;\u001b\\\u001b[2m:\u001b[0m\u001b]8;id=420028;file:///opt/conda/lib/python3.11/site-packages/sagemaker/session.py#3383\u001b\\\u001b[2m3383\u001b[0m\u001b]8;;\u001b\\\n",
       "\u001b[2;36m                    \u001b[0m         sagemaker-project1743287032                                            \u001b[2m               \u001b[0m\n"
      ]
     },
     "metadata": {},
     "output_type": "display_data"
    },
    {
     "name": "stdout",
     "output_type": "stream",
     "text": [
      ".....................................................................................................!\n",
      "!\n"
     ]
    }
   ],
   "source": [
    "# Set up the hyperparameter tuner\n",
    "tuner = HyperparameterTuner(tabular_estimator,\n",
    "        objective_metric_name='average_precision', # See https://docs.aws.amazon.com/sagemaker/latest/dg/lightgbm-tuning.html\n",
    "        hyperparameter_ranges=hyperparameter_ranges_lgb,\n",
    "        metric_definitions=[{\"Name\": \"average_precision\", \"Regex\": \"average_precision: ([0-9\\\\.]+)\"}],\n",
    "        strategy='Bayesian', # Bayesian optimization\n",
    "        objective_type=\"Maximize\",\n",
    "        max_jobs=20,\n",
    "        max_parallel_jobs=3\n",
    ")\n",
    "\n",
    "# Start the hyperparameter tuning job\n",
    "training_job_name = prefix + str(int(time.time()))\n",
    "tuner.fit({'train': train_location, 'validation': val_location}, logs=True, job_name=training_job_name)\n",
    "tuner.wait()"
   ]
  },
  {
   "cell_type": "code",
   "execution_count": 27,
   "id": "2c9ee409-88ff-4f6f-9075-f144be7b70ac",
   "metadata": {
    "tags": []
   },
   "outputs": [
    {
     "name": "stdout",
     "output_type": "stream",
     "text": [
      "\n",
      "2025-03-29 22:31:47 Starting - Found matching resource for reuse\n",
      "2025-03-29 22:31:47 Downloading - Downloading the training image\n",
      "2025-03-29 22:31:47 Training - Training image download completed. Training in progress.\n",
      "2025-03-29 22:31:47 Uploading - Uploading generated training model\n",
      "2025-03-29 22:31:47 Completed - Resource reused by training job: sagemaker-project1743287032-020-52e72e3d\n",
      "\n",
      "2025-03-29 22:31:47 Starting - Found matching resource for reuse\n",
      "2025-03-29 22:31:47 Downloading - Downloading the training image\n",
      "2025-03-29 22:31:47 Training - Training image download completed. Training in progress.\n",
      "2025-03-29 22:31:47 Uploading - Uploading generated training model\n",
      "2025-03-29 22:31:47 Completed - Resource reused by training job: sagemaker-project1743287032-020-52e72e3d\n"
     ]
    },
    {
     "data": {
      "text/plain": [
       "(<sagemaker.estimator.Estimator at 0x7f4213ee3410>,\n",
       " {'_tuning_objective_metric': 'average_precision',\n",
       "  'bagging_fraction': '0.8344924836118808',\n",
       "  'bagging_freq': '9',\n",
       "  'boosting': '\"gbdt\"',\n",
       "  'early_stopping_rounds': '\"30\"',\n",
       "  'extra_trees': 'True',\n",
       "  'feature_fraction': '0.9249693303888324',\n",
       "  'feature_fraction_bynode': '\"1.0\"',\n",
       "  'is_unbalance': '\"False\"',\n",
       "  'lambda_l1': '\"0.0\"',\n",
       "  'lambda_l2': '\"0.0\"',\n",
       "  'learning_rate': '0.19494439569741567',\n",
       "  'max_bin': '\"255\"',\n",
       "  'max_delta_step': '\"0.0\"',\n",
       "  'max_depth': '8',\n",
       "  'metric': '\"average_precision\"',\n",
       "  'min_data_in_leaf': '9',\n",
       "  'min_gain_to_split': '\"0.0\"',\n",
       "  'num_boost_round': '\"5000\"',\n",
       "  'num_leaves': '35',\n",
       "  'num_threads': '\"0\"',\n",
       "  'sagemaker_container_log_level': '20',\n",
       "  'sagemaker_job_name': '\"sagemaker-project1743287032\"',\n",
       "  'sagemaker_program': '\"transfer_learning.py\"',\n",
       "  'sagemaker_region': '\"us-east-1\"',\n",
       "  'sagemaker_submit_directory': '\"s3://jumpstart-cache-prod-us-east-1/source-directory-tarballs/lightgbm/transfer_learning/classification/prepack/v1.1.1/sourcedir.tar.gz\"',\n",
       "  'scale_pos_weight': '\"1.0\"',\n",
       "  'tree_learner': '\"serial\"',\n",
       "  'use_dask': '\"False\"',\n",
       "  'verbosity': '\"1\"'})"
      ]
     },
     "execution_count": 27,
     "metadata": {},
     "output_type": "execute_result"
    }
   ],
   "source": [
    "tuner.best_estimator(), tuner.best_estimator().hyperparameters()"
   ]
  },
  {
   "cell_type": "code",
   "execution_count": 28,
   "id": "1d114b40-76a5-475f-85c9-db3ac7878532",
   "metadata": {
    "tags": []
   },
   "outputs": [
    {
     "name": "stdout",
     "output_type": "stream",
     "text": [
      "Best training job: sagemaker-project1743287032-017-47c640b5\n",
      "\n",
      "Best hyperparameters:\n",
      " {'_tuning_objective_metric': 'average_precision', 'bagging_fraction': '0.8344924836118808', 'bagging_freq': '9', 'boosting': '\"gbdt\"', 'early_stopping_rounds': '\"30\"', 'extra_trees': 'True', 'feature_fraction': '0.9249693303888324', 'feature_fraction_bynode': '\"1.0\"', 'is_unbalance': '\"False\"', 'lambda_l1': '\"0.0\"', 'lambda_l2': '\"0.0\"', 'learning_rate': '0.19494439569741567', 'max_bin': '\"255\"', 'max_delta_step': '\"0.0\"', 'max_depth': '8', 'metric': '\"average_precision\"', 'min_data_in_leaf': '9', 'min_gain_to_split': '\"0.0\"', 'num_boost_round': '\"5000\"', 'num_leaves': '35', 'num_threads': '\"0\"', 'sagemaker_container_log_level': '20', 'sagemaker_job_name': '\"sagemaker-project1743287032\"', 'sagemaker_program': '\"transfer_learning.py\"', 'sagemaker_region': '\"us-east-1\"', 'sagemaker_submit_directory': '\"s3://jumpstart-cache-prod-us-east-1/source-directory-tarballs/lightgbm/transfer_learning/classification/prepack/v1.1.1/sourcedir.tar.gz\"', 'scale_pos_weight': '\"1.0\"', 'tree_learner': '\"serial\"', 'use_dask': '\"False\"', 'verbosity': '\"1\"'}\n",
      "\n",
      "Best objective value: 0.6831420063972473\n",
      "\n",
      "All training jobs with expanded hyperparameters, metric value, time, and ranking:\n",
      "\n"
     ]
    },
    {
     "data": {
      "text/html": [
       "<div>\n",
       "<style scoped>\n",
       "    .dataframe tbody tr th:only-of-type {\n",
       "        vertical-align: middle;\n",
       "    }\n",
       "\n",
       "    .dataframe tbody tr th {\n",
       "        vertical-align: top;\n",
       "    }\n",
       "\n",
       "    .dataframe thead th {\n",
       "        text-align: right;\n",
       "    }\n",
       "</style>\n",
       "<table border=\"1\" class=\"dataframe\">\n",
       "  <thead>\n",
       "    <tr style=\"text-align: right;\">\n",
       "      <th></th>\n",
       "      <th>TrainingJobName</th>\n",
       "      <th>Rank</th>\n",
       "      <th>average_precision</th>\n",
       "      <th>TrainingTime</th>\n",
       "      <th>learning_rate</th>\n",
       "      <th>num_leaves</th>\n",
       "      <th>feature_fraction</th>\n",
       "      <th>bagging_fraction</th>\n",
       "      <th>bagging_freq</th>\n",
       "      <th>max_depth</th>\n",
       "      <th>min_data_in_leaf</th>\n",
       "      <th>extra_trees</th>\n",
       "    </tr>\n",
       "  </thead>\n",
       "  <tbody>\n",
       "    <tr>\n",
       "      <th>3</th>\n",
       "      <td>sagemaker-project1743287032-017-47c640b5</td>\n",
       "      <td>1</td>\n",
       "      <td>0.683142</td>\n",
       "      <td>0 days 00:00:39.874000</td>\n",
       "      <td>0.19494439569741567</td>\n",
       "      <td>35</td>\n",
       "      <td>0.9249693303888324</td>\n",
       "      <td>0.8344924836118808</td>\n",
       "      <td>9</td>\n",
       "      <td>8</td>\n",
       "      <td>9</td>\n",
       "      <td>True</td>\n",
       "    </tr>\n",
       "    <tr>\n",
       "      <th>9</th>\n",
       "      <td>sagemaker-project1743287032-011-5a423cd9</td>\n",
       "      <td>2</td>\n",
       "      <td>0.675376</td>\n",
       "      <td>0 days 00:00:38.757000</td>\n",
       "      <td>0.119348840666589</td>\n",
       "      <td>40</td>\n",
       "      <td>0.552251726785043</td>\n",
       "      <td>0.7598716500576683</td>\n",
       "      <td>8</td>\n",
       "      <td>8</td>\n",
       "      <td>13</td>\n",
       "      <td>True</td>\n",
       "    </tr>\n",
       "    <tr>\n",
       "      <th>1</th>\n",
       "      <td>sagemaker-project1743287032-019-b109cca6</td>\n",
       "      <td>3</td>\n",
       "      <td>0.675228</td>\n",
       "      <td>0 days 00:00:38.717000</td>\n",
       "      <td>0.10980366214309437</td>\n",
       "      <td>50</td>\n",
       "      <td>0.6414938734454705</td>\n",
       "      <td>1.0</td>\n",
       "      <td>10</td>\n",
       "      <td>8</td>\n",
       "      <td>19</td>\n",
       "      <td>True</td>\n",
       "    </tr>\n",
       "    <tr>\n",
       "      <th>2</th>\n",
       "      <td>sagemaker-project1743287032-018-ca6eab52</td>\n",
       "      <td>4</td>\n",
       "      <td>0.674202</td>\n",
       "      <td>0 days 00:00:38.796000</td>\n",
       "      <td>0.14699756267892133</td>\n",
       "      <td>40</td>\n",
       "      <td>0.8752795960758015</td>\n",
       "      <td>0.8407671591252192</td>\n",
       "      <td>10</td>\n",
       "      <td>8</td>\n",
       "      <td>7</td>\n",
       "      <td>False</td>\n",
       "    </tr>\n",
       "    <tr>\n",
       "      <th>5</th>\n",
       "      <td>sagemaker-project1743287032-015-5561bbb3</td>\n",
       "      <td>5</td>\n",
       "      <td>0.671373</td>\n",
       "      <td>0 days 00:00:40.777000</td>\n",
       "      <td>0.035997740875381296</td>\n",
       "      <td>50</td>\n",
       "      <td>0.5831017834137551</td>\n",
       "      <td>0.9579489996212394</td>\n",
       "      <td>10</td>\n",
       "      <td>7</td>\n",
       "      <td>14</td>\n",
       "      <td>False</td>\n",
       "    </tr>\n",
       "    <tr>\n",
       "      <th>4</th>\n",
       "      <td>sagemaker-project1743287032-016-c0497ce5</td>\n",
       "      <td>6</td>\n",
       "      <td>0.668965</td>\n",
       "      <td>0 days 00:00:33.628000</td>\n",
       "      <td>0.09021994849238853</td>\n",
       "      <td>46</td>\n",
       "      <td>0.5652155009760103</td>\n",
       "      <td>0.8864030291819285</td>\n",
       "      <td>10</td>\n",
       "      <td>7</td>\n",
       "      <td>7</td>\n",
       "      <td>False</td>\n",
       "    </tr>\n",
       "    <tr>\n",
       "      <th>6</th>\n",
       "      <td>sagemaker-project1743287032-014-77c126d6</td>\n",
       "      <td>7</td>\n",
       "      <td>0.661210</td>\n",
       "      <td>0 days 00:00:39.042000</td>\n",
       "      <td>0.02354669482052652</td>\n",
       "      <td>50</td>\n",
       "      <td>0.9001386784924692</td>\n",
       "      <td>0.6125689281800397</td>\n",
       "      <td>10</td>\n",
       "      <td>7</td>\n",
       "      <td>6</td>\n",
       "      <td>False</td>\n",
       "    </tr>\n",
       "    <tr>\n",
       "      <th>7</th>\n",
       "      <td>sagemaker-project1743287032-013-aaeb84b3</td>\n",
       "      <td>8</td>\n",
       "      <td>0.660321</td>\n",
       "      <td>0 days 00:00:36.171000</td>\n",
       "      <td>0.17131254148126276</td>\n",
       "      <td>21</td>\n",
       "      <td>0.7407900923482639</td>\n",
       "      <td>1.0</td>\n",
       "      <td>6</td>\n",
       "      <td>8</td>\n",
       "      <td>30</td>\n",
       "      <td>True</td>\n",
       "    </tr>\n",
       "    <tr>\n",
       "      <th>0</th>\n",
       "      <td>sagemaker-project1743287032-020-52e72e3d</td>\n",
       "      <td>9</td>\n",
       "      <td>0.658445</td>\n",
       "      <td>0 days 00:00:38.908000</td>\n",
       "      <td>0.0789621834169329</td>\n",
       "      <td>27</td>\n",
       "      <td>0.5150868373430718</td>\n",
       "      <td>1.0</td>\n",
       "      <td>7</td>\n",
       "      <td>7</td>\n",
       "      <td>1</td>\n",
       "      <td>True</td>\n",
       "    </tr>\n",
       "    <tr>\n",
       "      <th>8</th>\n",
       "      <td>sagemaker-project1743287032-012-9239bdbd</td>\n",
       "      <td>10</td>\n",
       "      <td>0.618088</td>\n",
       "      <td>0 days 00:00:34.308000</td>\n",
       "      <td>0.04795617739326155</td>\n",
       "      <td>22</td>\n",
       "      <td>0.688215628678962</td>\n",
       "      <td>0.8344526239035519</td>\n",
       "      <td>9</td>\n",
       "      <td>2</td>\n",
       "      <td>9</td>\n",
       "      <td>True</td>\n",
       "    </tr>\n",
       "  </tbody>\n",
       "</table>\n",
       "</div>"
      ],
      "text/plain": [
       "                            TrainingJobName  Rank  average_precision  \\\n",
       "3  sagemaker-project1743287032-017-47c640b5     1           0.683142   \n",
       "9  sagemaker-project1743287032-011-5a423cd9     2           0.675376   \n",
       "1  sagemaker-project1743287032-019-b109cca6     3           0.675228   \n",
       "2  sagemaker-project1743287032-018-ca6eab52     4           0.674202   \n",
       "5  sagemaker-project1743287032-015-5561bbb3     5           0.671373   \n",
       "4  sagemaker-project1743287032-016-c0497ce5     6           0.668965   \n",
       "6  sagemaker-project1743287032-014-77c126d6     7           0.661210   \n",
       "7  sagemaker-project1743287032-013-aaeb84b3     8           0.660321   \n",
       "0  sagemaker-project1743287032-020-52e72e3d     9           0.658445   \n",
       "8  sagemaker-project1743287032-012-9239bdbd    10           0.618088   \n",
       "\n",
       "            TrainingTime         learning_rate num_leaves    feature_fraction  \\\n",
       "3 0 days 00:00:39.874000   0.19494439569741567         35  0.9249693303888324   \n",
       "9 0 days 00:00:38.757000     0.119348840666589         40   0.552251726785043   \n",
       "1 0 days 00:00:38.717000   0.10980366214309437         50  0.6414938734454705   \n",
       "2 0 days 00:00:38.796000   0.14699756267892133         40  0.8752795960758015   \n",
       "5 0 days 00:00:40.777000  0.035997740875381296         50  0.5831017834137551   \n",
       "4 0 days 00:00:33.628000   0.09021994849238853         46  0.5652155009760103   \n",
       "6 0 days 00:00:39.042000   0.02354669482052652         50  0.9001386784924692   \n",
       "7 0 days 00:00:36.171000   0.17131254148126276         21  0.7407900923482639   \n",
       "0 0 days 00:00:38.908000    0.0789621834169329         27  0.5150868373430718   \n",
       "8 0 days 00:00:34.308000   0.04795617739326155         22   0.688215628678962   \n",
       "\n",
       "     bagging_fraction bagging_freq max_depth min_data_in_leaf extra_trees  \n",
       "3  0.8344924836118808            9         8                9        True  \n",
       "9  0.7598716500576683            8         8               13        True  \n",
       "1                 1.0           10         8               19        True  \n",
       "2  0.8407671591252192           10         8                7       False  \n",
       "5  0.9579489996212394           10         7               14       False  \n",
       "4  0.8864030291819285           10         7                7       False  \n",
       "6  0.6125689281800397           10         7                6       False  \n",
       "7                 1.0            6         8               30        True  \n",
       "0                 1.0            7         7                1        True  \n",
       "8  0.8344526239035519            9         2                9        True  "
      ]
     },
     "execution_count": 28,
     "metadata": {},
     "output_type": "execute_result"
    }
   ],
   "source": [
    "import boto3\n",
    "import pandas as pd\n",
    "\n",
    "# Function to fetch tuner results as a DataFrame\n",
    "def tuner_results_to_dataframe(tuner):\n",
    "    sagemaker_client = boto3.client('sagemaker', region_name=region)\n",
    "    all_jobs_response = sagemaker_client.list_training_jobs_for_hyper_parameter_tuning_job(\n",
    "        HyperParameterTuningJobName=tuner.latest_tuning_job.name\n",
    "    )\n",
    "    \n",
    "    all_jobs = all_jobs_response['TrainingJobSummaries']\n",
    "    \n",
    "    job_details = []\n",
    "    for job in all_jobs:\n",
    "        job_details_response = sagemaker_client.describe_training_job(TrainingJobName=job['TrainingJobName'])\n",
    "        job_details.append(job_details_response)\n",
    "    \n",
    "    df = pd.DataFrame(job_details)\n",
    "    return df\n",
    "\n",
    "# Fetch tuner results\n",
    "tuner_df = tuner_results_to_dataframe(tuner)\n",
    "\n",
    "# Get best training job details\n",
    "best_job_name = tuner.best_training_job()\n",
    "best_job = tuner_df.loc[tuner_df['TrainingJobName'] == best_job_name]\n",
    "\n",
    "# Get the final metric value\n",
    "best_job_objective_value = best_job.iloc[0]['FinalMetricDataList'][0]['Value']\n",
    "best_job_hyperparameters = best_job.iloc[0]['HyperParameters']\n",
    "\n",
    "print(\"Best training job:\", best_job_name)\n",
    "print(\"\\nBest hyperparameters:\\n\", best_job_hyperparameters)\n",
    "print(\"\\nBest objective value:\", best_job_objective_value)\n",
    "\n",
    "# Expand hyperparameters into columns and keep relevant columns\n",
    "hyperparameters_expanded = tuner_df['HyperParameters'].apply(pd.Series)\n",
    "tuner_df_final = pd.concat([tuner_df['TrainingJobName'], hyperparameters_expanded, tuner_df['FinalMetricDataList']], axis=1)\n",
    "\n",
    "# Extract the objective value from FinalMetricDataList\n",
    "tuner_df_final['ObjectiveValue'] = tuner_df_final['FinalMetricDataList'].apply(lambda x: x[0]['Value'])\n",
    "\n",
    "# Calculate time of training and rank by the objective value\n",
    "tuner_df_final['TrainingTime'] = tuner_df['TrainingEndTime'] - tuner_df['TrainingStartTime']\n",
    "tuner_df_final = tuner_df_final.sort_values(\"ObjectiveValue\", ascending=False)\n",
    "tuner_df_final.insert(len(tuner_df_final.columns), 'Rank', range(1, 1+len(tuner_df_final)))\n",
    "\n",
    "print(\"\\nAll training jobs with expanded hyperparameters, metric value, time, and ranking:\\n\")\n",
    "relevant_columns = ['TrainingJobName', 'Rank', 'ObjectiveValue', 'TrainingTime'] + list(hyperparameter_ranges_lgb.keys())\n",
    "\n",
    "tuner_df_final[relevant_columns].rename(columns={'ObjectiveValue': 'average_precision'})"
   ]
  },
  {
   "cell_type": "markdown",
   "id": "b06a275b-1ab8-4bf0-b4c3-6bda8e057395",
   "metadata": {
    "tags": []
   },
   "source": [
    "Note: The depth and number of leaves of the first configuration looks reasonable in comparison with the others, and the average precision is significantly higher."
   ]
  },
  {
   "cell_type": "code",
   "execution_count": 29,
   "id": "75ec5876-88ac-4ef7-8339-b252c4f18e22",
   "metadata": {
    "scrolled": true,
    "tags": []
   },
   "outputs": [
    {
     "data": {
      "text/plain": [
       "{'KmsKeyId': '',\n",
       " 'S3OutputPath': 's3://sagemaker-us-east-1-361673968127/sagemaker-project/output',\n",
       " 'CompressionType': 'GZIP'}"
      ]
     },
     "execution_count": 29,
     "metadata": {},
     "output_type": "execute_result"
    }
   ],
   "source": [
    "best_job['OutputDataConfig'].iloc[0]"
   ]
  },
  {
   "cell_type": "code",
   "execution_count": null,
   "id": "e5498643-8e74-4946-a4f6-0593822e9258",
   "metadata": {},
   "outputs": [
    {
     "name": "stdout",
     "output_type": "stream",
     "text": [
      "\n",
      "2025-03-29 22:31:47 Starting - Found matching resource for reuse\n",
      "2025-03-29 22:31:47 Downloading - Downloading the training image\n",
      "2025-03-29 22:31:47 Training - Training image download completed. Training in progress.\n",
      "2025-03-29 22:31:47 Uploading - Uploading generated training model\n",
      "2025-03-29 22:31:47 Completed - Resource reused by training job: sagemaker-project1743287032-020-52e72e3d\n"
     ]
    },
    {
     "data": {
      "text/html": [
       "<pre style=\"white-space:pre;overflow-x:auto;line-height:normal;font-family:Menlo,'DejaVu Sans Mono',consolas,'Courier New',monospace\"><span style=\"color: #7fbfbf; text-decoration-color: #7fbfbf\">[03/29/25 22:35:02] </span><span style=\"color: #0069ff; text-decoration-color: #0069ff; font-weight: bold\">INFO    </span> Creating model with name: sagemaker-jumpstart-<span style=\"color: #008080; text-decoration-color: #008080; font-weight: bold\">2025</span>-03-29-22-35-02-871  <a href=\"file:///opt/conda/lib/python3.11/site-packages/sagemaker/session.py\" target=\"_blank\"><span style=\"color: #7f7f7f; text-decoration-color: #7f7f7f\">session.py</span></a><span style=\"color: #7f7f7f; text-decoration-color: #7f7f7f\">:</span><a href=\"file:///opt/conda/lib/python3.11/site-packages/sagemaker/session.py#4094\" target=\"_blank\"><span style=\"color: #7f7f7f; text-decoration-color: #7f7f7f\">4094</span></a>\n",
       "</pre>\n"
      ],
      "text/plain": [
       "\u001b[2;36m[03/29/25 22:35:02]\u001b[0m\u001b[2;36m \u001b[0m\u001b[1;38;2;0;105;255mINFO    \u001b[0m Creating model with name: sagemaker-jumpstart-\u001b[1;36m2025\u001b[0m-03-29-22-35-02-871  \u001b]8;id=955388;file:///opt/conda/lib/python3.11/site-packages/sagemaker/session.py\u001b\\\u001b[2msession.py\u001b[0m\u001b]8;;\u001b\\\u001b[2m:\u001b[0m\u001b]8;id=511684;file:///opt/conda/lib/python3.11/site-packages/sagemaker/session.py#4094\u001b\\\u001b[2m4094\u001b[0m\u001b]8;;\u001b\\\n"
      ]
     },
     "metadata": {},
     "output_type": "display_data"
    },
    {
     "data": {
      "text/html": [
       "<pre style=\"white-space:pre;overflow-x:auto;line-height:normal;font-family:Menlo,'DejaVu Sans Mono',consolas,'Courier New',monospace\"><span style=\"color: #7fbfbf; text-decoration-color: #7fbfbf\">[03/29/25 22:35:03] </span><span style=\"color: #0069ff; text-decoration-color: #0069ff; font-weight: bold\">INFO    </span> Creating endpoint-config with name                                     <a href=\"file:///opt/conda/lib/python3.11/site-packages/sagemaker/session.py\" target=\"_blank\"><span style=\"color: #7f7f7f; text-decoration-color: #7f7f7f\">session.py</span></a><span style=\"color: #7f7f7f; text-decoration-color: #7f7f7f\">:</span><a href=\"file:///opt/conda/lib/python3.11/site-packages/sagemaker/session.py#5889\" target=\"_blank\"><span style=\"color: #7f7f7f; text-decoration-color: #7f7f7f\">5889</span></a>\n",
       "<span style=\"color: #7fbfbf; text-decoration-color: #7fbfbf\">                    </span>         sagemaker-project1743287032-<span style=\"color: #008080; text-decoration-color: #008080; font-weight: bold\">017</span>-47c640b5                               <span style=\"color: #7f7f7f; text-decoration-color: #7f7f7f\">               </span>\n",
       "</pre>\n"
      ],
      "text/plain": [
       "\u001b[2;36m[03/29/25 22:35:03]\u001b[0m\u001b[2;36m \u001b[0m\u001b[1;38;2;0;105;255mINFO    \u001b[0m Creating endpoint-config with name                                     \u001b]8;id=340995;file:///opt/conda/lib/python3.11/site-packages/sagemaker/session.py\u001b\\\u001b[2msession.py\u001b[0m\u001b]8;;\u001b\\\u001b[2m:\u001b[0m\u001b]8;id=934981;file:///opt/conda/lib/python3.11/site-packages/sagemaker/session.py#5889\u001b\\\u001b[2m5889\u001b[0m\u001b]8;;\u001b\\\n",
       "\u001b[2;36m                    \u001b[0m         sagemaker-project1743287032-\u001b[1;36m017\u001b[0m-47c640b5                               \u001b[2m               \u001b[0m\n"
      ]
     },
     "metadata": {},
     "output_type": "display_data"
    },
    {
     "data": {
      "text/html": [
       "<pre style=\"white-space:pre;overflow-x:auto;line-height:normal;font-family:Menlo,'DejaVu Sans Mono',consolas,'Courier New',monospace\"><span style=\"color: #7fbfbf; text-decoration-color: #7fbfbf\">                    </span><span style=\"color: #0069ff; text-decoration-color: #0069ff; font-weight: bold\">INFO    </span> Creating endpoint with name sagemaker-project1743287032-<span style=\"color: #008080; text-decoration-color: #008080; font-weight: bold\">017</span>-47c640b5   <a href=\"file:///opt/conda/lib/python3.11/site-packages/sagemaker/session.py\" target=\"_blank\"><span style=\"color: #7f7f7f; text-decoration-color: #7f7f7f\">session.py</span></a><span style=\"color: #7f7f7f; text-decoration-color: #7f7f7f\">:</span><a href=\"file:///opt/conda/lib/python3.11/site-packages/sagemaker/session.py#4711\" target=\"_blank\"><span style=\"color: #7f7f7f; text-decoration-color: #7f7f7f\">4711</span></a>\n",
       "</pre>\n"
      ],
      "text/plain": [
       "\u001b[2;36m                   \u001b[0m\u001b[2;36m \u001b[0m\u001b[1;38;2;0;105;255mINFO    \u001b[0m Creating endpoint with name sagemaker-project1743287032-\u001b[1;36m017\u001b[0m-47c640b5   \u001b]8;id=680057;file:///opt/conda/lib/python3.11/site-packages/sagemaker/session.py\u001b\\\u001b[2msession.py\u001b[0m\u001b]8;;\u001b\\\u001b[2m:\u001b[0m\u001b]8;id=375918;file:///opt/conda/lib/python3.11/site-packages/sagemaker/session.py#4711\u001b\\\u001b[2m4711\u001b[0m\u001b]8;;\u001b\\\n"
      ]
     },
     "metadata": {},
     "output_type": "display_data"
    },
    {
     "name": "stdout",
     "output_type": "stream",
     "text": [
      "--"
     ]
    }
   ],
   "source": [
    "# # Deploy the best model from the hyperparameter tuning job\n",
    "best_model = tuner.deploy(initial_instance_count=1, instance_type='ml.m4.xlarge')"
   ]
  }
 ],
 "metadata": {
  "availableInstances": [
   {
    "_defaultOrder": 0,
    "_isFastLaunch": true,
    "category": "General purpose",
    "gpuNum": 0,
    "hideHardwareSpecs": false,
    "memoryGiB": 4,
    "name": "ml.t3.medium",
    "vcpuNum": 2
   },
   {
    "_defaultOrder": 1,
    "_isFastLaunch": false,
    "category": "General purpose",
    "gpuNum": 0,
    "hideHardwareSpecs": false,
    "memoryGiB": 8,
    "name": "ml.t3.large",
    "vcpuNum": 2
   },
   {
    "_defaultOrder": 2,
    "_isFastLaunch": false,
    "category": "General purpose",
    "gpuNum": 0,
    "hideHardwareSpecs": false,
    "memoryGiB": 16,
    "name": "ml.t3.xlarge",
    "vcpuNum": 4
   },
   {
    "_defaultOrder": 3,
    "_isFastLaunch": false,
    "category": "General purpose",
    "gpuNum": 0,
    "hideHardwareSpecs": false,
    "memoryGiB": 32,
    "name": "ml.t3.2xlarge",
    "vcpuNum": 8
   },
   {
    "_defaultOrder": 4,
    "_isFastLaunch": true,
    "category": "General purpose",
    "gpuNum": 0,
    "hideHardwareSpecs": false,
    "memoryGiB": 8,
    "name": "ml.m5.large",
    "vcpuNum": 2
   },
   {
    "_defaultOrder": 5,
    "_isFastLaunch": false,
    "category": "General purpose",
    "gpuNum": 0,
    "hideHardwareSpecs": false,
    "memoryGiB": 16,
    "name": "ml.m5.xlarge",
    "vcpuNum": 4
   },
   {
    "_defaultOrder": 6,
    "_isFastLaunch": false,
    "category": "General purpose",
    "gpuNum": 0,
    "hideHardwareSpecs": false,
    "memoryGiB": 32,
    "name": "ml.m5.2xlarge",
    "vcpuNum": 8
   },
   {
    "_defaultOrder": 7,
    "_isFastLaunch": false,
    "category": "General purpose",
    "gpuNum": 0,
    "hideHardwareSpecs": false,
    "memoryGiB": 64,
    "name": "ml.m5.4xlarge",
    "vcpuNum": 16
   },
   {
    "_defaultOrder": 8,
    "_isFastLaunch": false,
    "category": "General purpose",
    "gpuNum": 0,
    "hideHardwareSpecs": false,
    "memoryGiB": 128,
    "name": "ml.m5.8xlarge",
    "vcpuNum": 32
   },
   {
    "_defaultOrder": 9,
    "_isFastLaunch": false,
    "category": "General purpose",
    "gpuNum": 0,
    "hideHardwareSpecs": false,
    "memoryGiB": 192,
    "name": "ml.m5.12xlarge",
    "vcpuNum": 48
   },
   {
    "_defaultOrder": 10,
    "_isFastLaunch": false,
    "category": "General purpose",
    "gpuNum": 0,
    "hideHardwareSpecs": false,
    "memoryGiB": 256,
    "name": "ml.m5.16xlarge",
    "vcpuNum": 64
   },
   {
    "_defaultOrder": 11,
    "_isFastLaunch": false,
    "category": "General purpose",
    "gpuNum": 0,
    "hideHardwareSpecs": false,
    "memoryGiB": 384,
    "name": "ml.m5.24xlarge",
    "vcpuNum": 96
   },
   {
    "_defaultOrder": 12,
    "_isFastLaunch": false,
    "category": "General purpose",
    "gpuNum": 0,
    "hideHardwareSpecs": false,
    "memoryGiB": 8,
    "name": "ml.m5d.large",
    "vcpuNum": 2
   },
   {
    "_defaultOrder": 13,
    "_isFastLaunch": false,
    "category": "General purpose",
    "gpuNum": 0,
    "hideHardwareSpecs": false,
    "memoryGiB": 16,
    "name": "ml.m5d.xlarge",
    "vcpuNum": 4
   },
   {
    "_defaultOrder": 14,
    "_isFastLaunch": false,
    "category": "General purpose",
    "gpuNum": 0,
    "hideHardwareSpecs": false,
    "memoryGiB": 32,
    "name": "ml.m5d.2xlarge",
    "vcpuNum": 8
   },
   {
    "_defaultOrder": 15,
    "_isFastLaunch": false,
    "category": "General purpose",
    "gpuNum": 0,
    "hideHardwareSpecs": false,
    "memoryGiB": 64,
    "name": "ml.m5d.4xlarge",
    "vcpuNum": 16
   },
   {
    "_defaultOrder": 16,
    "_isFastLaunch": false,
    "category": "General purpose",
    "gpuNum": 0,
    "hideHardwareSpecs": false,
    "memoryGiB": 128,
    "name": "ml.m5d.8xlarge",
    "vcpuNum": 32
   },
   {
    "_defaultOrder": 17,
    "_isFastLaunch": false,
    "category": "General purpose",
    "gpuNum": 0,
    "hideHardwareSpecs": false,
    "memoryGiB": 192,
    "name": "ml.m5d.12xlarge",
    "vcpuNum": 48
   },
   {
    "_defaultOrder": 18,
    "_isFastLaunch": false,
    "category": "General purpose",
    "gpuNum": 0,
    "hideHardwareSpecs": false,
    "memoryGiB": 256,
    "name": "ml.m5d.16xlarge",
    "vcpuNum": 64
   },
   {
    "_defaultOrder": 19,
    "_isFastLaunch": false,
    "category": "General purpose",
    "gpuNum": 0,
    "hideHardwareSpecs": false,
    "memoryGiB": 384,
    "name": "ml.m5d.24xlarge",
    "vcpuNum": 96
   },
   {
    "_defaultOrder": 20,
    "_isFastLaunch": false,
    "category": "General purpose",
    "gpuNum": 0,
    "hideHardwareSpecs": true,
    "memoryGiB": 0,
    "name": "ml.geospatial.interactive",
    "supportedImageNames": [
     "sagemaker-geospatial-v1-0"
    ],
    "vcpuNum": 0
   },
   {
    "_defaultOrder": 21,
    "_isFastLaunch": true,
    "category": "Compute optimized",
    "gpuNum": 0,
    "hideHardwareSpecs": false,
    "memoryGiB": 4,
    "name": "ml.c5.large",
    "vcpuNum": 2
   },
   {
    "_defaultOrder": 22,
    "_isFastLaunch": false,
    "category": "Compute optimized",
    "gpuNum": 0,
    "hideHardwareSpecs": false,
    "memoryGiB": 8,
    "name": "ml.c5.xlarge",
    "vcpuNum": 4
   },
   {
    "_defaultOrder": 23,
    "_isFastLaunch": false,
    "category": "Compute optimized",
    "gpuNum": 0,
    "hideHardwareSpecs": false,
    "memoryGiB": 16,
    "name": "ml.c5.2xlarge",
    "vcpuNum": 8
   },
   {
    "_defaultOrder": 24,
    "_isFastLaunch": false,
    "category": "Compute optimized",
    "gpuNum": 0,
    "hideHardwareSpecs": false,
    "memoryGiB": 32,
    "name": "ml.c5.4xlarge",
    "vcpuNum": 16
   },
   {
    "_defaultOrder": 25,
    "_isFastLaunch": false,
    "category": "Compute optimized",
    "gpuNum": 0,
    "hideHardwareSpecs": false,
    "memoryGiB": 72,
    "name": "ml.c5.9xlarge",
    "vcpuNum": 36
   },
   {
    "_defaultOrder": 26,
    "_isFastLaunch": false,
    "category": "Compute optimized",
    "gpuNum": 0,
    "hideHardwareSpecs": false,
    "memoryGiB": 96,
    "name": "ml.c5.12xlarge",
    "vcpuNum": 48
   },
   {
    "_defaultOrder": 27,
    "_isFastLaunch": false,
    "category": "Compute optimized",
    "gpuNum": 0,
    "hideHardwareSpecs": false,
    "memoryGiB": 144,
    "name": "ml.c5.18xlarge",
    "vcpuNum": 72
   },
   {
    "_defaultOrder": 28,
    "_isFastLaunch": false,
    "category": "Compute optimized",
    "gpuNum": 0,
    "hideHardwareSpecs": false,
    "memoryGiB": 192,
    "name": "ml.c5.24xlarge",
    "vcpuNum": 96
   },
   {
    "_defaultOrder": 29,
    "_isFastLaunch": true,
    "category": "Accelerated computing",
    "gpuNum": 1,
    "hideHardwareSpecs": false,
    "memoryGiB": 16,
    "name": "ml.g4dn.xlarge",
    "vcpuNum": 4
   },
   {
    "_defaultOrder": 30,
    "_isFastLaunch": false,
    "category": "Accelerated computing",
    "gpuNum": 1,
    "hideHardwareSpecs": false,
    "memoryGiB": 32,
    "name": "ml.g4dn.2xlarge",
    "vcpuNum": 8
   },
   {
    "_defaultOrder": 31,
    "_isFastLaunch": false,
    "category": "Accelerated computing",
    "gpuNum": 1,
    "hideHardwareSpecs": false,
    "memoryGiB": 64,
    "name": "ml.g4dn.4xlarge",
    "vcpuNum": 16
   },
   {
    "_defaultOrder": 32,
    "_isFastLaunch": false,
    "category": "Accelerated computing",
    "gpuNum": 1,
    "hideHardwareSpecs": false,
    "memoryGiB": 128,
    "name": "ml.g4dn.8xlarge",
    "vcpuNum": 32
   },
   {
    "_defaultOrder": 33,
    "_isFastLaunch": false,
    "category": "Accelerated computing",
    "gpuNum": 4,
    "hideHardwareSpecs": false,
    "memoryGiB": 192,
    "name": "ml.g4dn.12xlarge",
    "vcpuNum": 48
   },
   {
    "_defaultOrder": 34,
    "_isFastLaunch": false,
    "category": "Accelerated computing",
    "gpuNum": 1,
    "hideHardwareSpecs": false,
    "memoryGiB": 256,
    "name": "ml.g4dn.16xlarge",
    "vcpuNum": 64
   },
   {
    "_defaultOrder": 35,
    "_isFastLaunch": false,
    "category": "Accelerated computing",
    "gpuNum": 1,
    "hideHardwareSpecs": false,
    "memoryGiB": 61,
    "name": "ml.p3.2xlarge",
    "vcpuNum": 8
   },
   {
    "_defaultOrder": 36,
    "_isFastLaunch": false,
    "category": "Accelerated computing",
    "gpuNum": 4,
    "hideHardwareSpecs": false,
    "memoryGiB": 244,
    "name": "ml.p3.8xlarge",
    "vcpuNum": 32
   },
   {
    "_defaultOrder": 37,
    "_isFastLaunch": false,
    "category": "Accelerated computing",
    "gpuNum": 8,
    "hideHardwareSpecs": false,
    "memoryGiB": 488,
    "name": "ml.p3.16xlarge",
    "vcpuNum": 64
   },
   {
    "_defaultOrder": 38,
    "_isFastLaunch": false,
    "category": "Accelerated computing",
    "gpuNum": 8,
    "hideHardwareSpecs": false,
    "memoryGiB": 768,
    "name": "ml.p3dn.24xlarge",
    "vcpuNum": 96
   },
   {
    "_defaultOrder": 39,
    "_isFastLaunch": false,
    "category": "Memory Optimized",
    "gpuNum": 0,
    "hideHardwareSpecs": false,
    "memoryGiB": 16,
    "name": "ml.r5.large",
    "vcpuNum": 2
   },
   {
    "_defaultOrder": 40,
    "_isFastLaunch": false,
    "category": "Memory Optimized",
    "gpuNum": 0,
    "hideHardwareSpecs": false,
    "memoryGiB": 32,
    "name": "ml.r5.xlarge",
    "vcpuNum": 4
   },
   {
    "_defaultOrder": 41,
    "_isFastLaunch": false,
    "category": "Memory Optimized",
    "gpuNum": 0,
    "hideHardwareSpecs": false,
    "memoryGiB": 64,
    "name": "ml.r5.2xlarge",
    "vcpuNum": 8
   },
   {
    "_defaultOrder": 42,
    "_isFastLaunch": false,
    "category": "Memory Optimized",
    "gpuNum": 0,
    "hideHardwareSpecs": false,
    "memoryGiB": 128,
    "name": "ml.r5.4xlarge",
    "vcpuNum": 16
   },
   {
    "_defaultOrder": 43,
    "_isFastLaunch": false,
    "category": "Memory Optimized",
    "gpuNum": 0,
    "hideHardwareSpecs": false,
    "memoryGiB": 256,
    "name": "ml.r5.8xlarge",
    "vcpuNum": 32
   },
   {
    "_defaultOrder": 44,
    "_isFastLaunch": false,
    "category": "Memory Optimized",
    "gpuNum": 0,
    "hideHardwareSpecs": false,
    "memoryGiB": 384,
    "name": "ml.r5.12xlarge",
    "vcpuNum": 48
   },
   {
    "_defaultOrder": 45,
    "_isFastLaunch": false,
    "category": "Memory Optimized",
    "gpuNum": 0,
    "hideHardwareSpecs": false,
    "memoryGiB": 512,
    "name": "ml.r5.16xlarge",
    "vcpuNum": 64
   },
   {
    "_defaultOrder": 46,
    "_isFastLaunch": false,
    "category": "Memory Optimized",
    "gpuNum": 0,
    "hideHardwareSpecs": false,
    "memoryGiB": 768,
    "name": "ml.r5.24xlarge",
    "vcpuNum": 96
   },
   {
    "_defaultOrder": 47,
    "_isFastLaunch": false,
    "category": "Accelerated computing",
    "gpuNum": 1,
    "hideHardwareSpecs": false,
    "memoryGiB": 16,
    "name": "ml.g5.xlarge",
    "vcpuNum": 4
   },
   {
    "_defaultOrder": 48,
    "_isFastLaunch": false,
    "category": "Accelerated computing",
    "gpuNum": 1,
    "hideHardwareSpecs": false,
    "memoryGiB": 32,
    "name": "ml.g5.2xlarge",
    "vcpuNum": 8
   },
   {
    "_defaultOrder": 49,
    "_isFastLaunch": false,
    "category": "Accelerated computing",
    "gpuNum": 1,
    "hideHardwareSpecs": false,
    "memoryGiB": 64,
    "name": "ml.g5.4xlarge",
    "vcpuNum": 16
   },
   {
    "_defaultOrder": 50,
    "_isFastLaunch": false,
    "category": "Accelerated computing",
    "gpuNum": 1,
    "hideHardwareSpecs": false,
    "memoryGiB": 128,
    "name": "ml.g5.8xlarge",
    "vcpuNum": 32
   },
   {
    "_defaultOrder": 51,
    "_isFastLaunch": false,
    "category": "Accelerated computing",
    "gpuNum": 1,
    "hideHardwareSpecs": false,
    "memoryGiB": 256,
    "name": "ml.g5.16xlarge",
    "vcpuNum": 64
   },
   {
    "_defaultOrder": 52,
    "_isFastLaunch": false,
    "category": "Accelerated computing",
    "gpuNum": 4,
    "hideHardwareSpecs": false,
    "memoryGiB": 192,
    "name": "ml.g5.12xlarge",
    "vcpuNum": 48
   },
   {
    "_defaultOrder": 53,
    "_isFastLaunch": false,
    "category": "Accelerated computing",
    "gpuNum": 4,
    "hideHardwareSpecs": false,
    "memoryGiB": 384,
    "name": "ml.g5.24xlarge",
    "vcpuNum": 96
   },
   {
    "_defaultOrder": 54,
    "_isFastLaunch": false,
    "category": "Accelerated computing",
    "gpuNum": 8,
    "hideHardwareSpecs": false,
    "memoryGiB": 768,
    "name": "ml.g5.48xlarge",
    "vcpuNum": 192
   },
   {
    "_defaultOrder": 55,
    "_isFastLaunch": false,
    "category": "Accelerated computing",
    "gpuNum": 8,
    "hideHardwareSpecs": false,
    "memoryGiB": 1152,
    "name": "ml.p4d.24xlarge",
    "vcpuNum": 96
   },
   {
    "_defaultOrder": 56,
    "_isFastLaunch": false,
    "category": "Accelerated computing",
    "gpuNum": 8,
    "hideHardwareSpecs": false,
    "memoryGiB": 1152,
    "name": "ml.p4de.24xlarge",
    "vcpuNum": 96
   }
  ],
  "instance_type": "ml.t3.medium",
  "kernelspec": {
   "display_name": "Python 3 (ipykernel)",
   "language": "python",
   "name": "python3"
  },
  "language_info": {
   "codemirror_mode": {
    "name": "ipython",
    "version": 3
   },
   "file_extension": ".py",
   "mimetype": "text/x-python",
   "name": "python",
   "nbconvert_exporter": "python",
   "pygments_lexer": "ipython3",
   "version": "3.11.11"
  }
 },
 "nbformat": 4,
 "nbformat_minor": 5
}
